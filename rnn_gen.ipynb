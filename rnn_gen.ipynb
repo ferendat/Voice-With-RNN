{
 "cells": [
  {
   "cell_type": "code",
   "execution_count": 1,
   "id": "f7b09541",
   "metadata": {},
   "outputs": [
    {
     "name": "stdout",
     "output_type": "stream",
     "text": [
      "Epoch 1/10\n"
     ]
    },
    {
     "name": "stderr",
     "output_type": "stream",
     "text": [
      "C:\\Users\\Nitro\\AppData\\Local\\Packages\\PythonSoftwareFoundation.Python.3.11_qbz5n2kfra8p0\\LocalCache\\local-packages\\Python311\\site-packages\\keras\\src\\layers\\rnn\\rnn.py:200: UserWarning: Do not pass an `input_shape`/`input_dim` argument to a layer. When using Sequential models, prefer using an `Input(shape)` object as the first layer in the model instead.\n",
      "  super().__init__(**kwargs)\n"
     ]
    },
    {
     "name": "stdout",
     "output_type": "stream",
     "text": [
      "\u001b[1m997/997\u001b[0m \u001b[32m━━━━━━━━━━━━━━━━━━━━\u001b[0m\u001b[37m\u001b[0m \u001b[1m20s\u001b[0m 18ms/step - loss: 0.1189\n",
      "Epoch 2/10\n",
      "\u001b[1m997/997\u001b[0m \u001b[32m━━━━━━━━━━━━━━━━━━━━\u001b[0m\u001b[37m\u001b[0m \u001b[1m20s\u001b[0m 20ms/step - loss: 0.1011\n",
      "Epoch 3/10\n",
      "\u001b[1m997/997\u001b[0m \u001b[32m━━━━━━━━━━━━━━━━━━━━\u001b[0m\u001b[37m\u001b[0m \u001b[1m18s\u001b[0m 18ms/step - loss: 0.1010\n",
      "Epoch 4/10\n",
      "\u001b[1m997/997\u001b[0m \u001b[32m━━━━━━━━━━━━━━━━━━━━\u001b[0m\u001b[37m\u001b[0m \u001b[1m19s\u001b[0m 19ms/step - loss: 0.1008\n",
      "Epoch 5/10\n",
      "\u001b[1m997/997\u001b[0m \u001b[32m━━━━━━━━━━━━━━━━━━━━\u001b[0m\u001b[37m\u001b[0m \u001b[1m19s\u001b[0m 19ms/step - loss: 0.0981\n",
      "Epoch 6/10\n",
      "\u001b[1m997/997\u001b[0m \u001b[32m━━━━━━━━━━━━━━━━━━━━\u001b[0m\u001b[37m\u001b[0m \u001b[1m18s\u001b[0m 18ms/step - loss: 0.0984\n",
      "Epoch 7/10\n",
      "\u001b[1m997/997\u001b[0m \u001b[32m━━━━━━━━━━━━━━━━━━━━\u001b[0m\u001b[37m\u001b[0m \u001b[1m18s\u001b[0m 18ms/step - loss: 0.0987\n",
      "Epoch 8/10\n",
      "\u001b[1m997/997\u001b[0m \u001b[32m━━━━━━━━━━━━━━━━━━━━\u001b[0m\u001b[37m\u001b[0m \u001b[1m18s\u001b[0m 18ms/step - loss: 0.0966\n",
      "Epoch 9/10\n",
      "\u001b[1m997/997\u001b[0m \u001b[32m━━━━━━━━━━━━━━━━━━━━\u001b[0m\u001b[37m\u001b[0m \u001b[1m18s\u001b[0m 18ms/step - loss: 0.0986\n",
      "Epoch 10/10\n",
      "\u001b[1m997/997\u001b[0m \u001b[32m━━━━━━━━━━━━━━━━━━━━\u001b[0m\u001b[37m\u001b[0m \u001b[1m19s\u001b[0m 19ms/step - loss: 0.1057\n",
      "Done! File saved as 'rnn_generated.wav'\n"
     ]
    }
   ],
   "source": [
    "import numpy as np\n",
    "from scipy.io.wavfile import write\n",
    "from tensorflow.keras.models import Sequential\n",
    "from tensorflow.keras.layers import SimpleRNN, Dense\n",
    "\n",
    "# === 1. Generate training signal ===\n",
    "sample_rate = 16000\n",
    "duration = 2  # seconds\n",
    "t = np.linspace(0, duration, int(sample_rate * duration), endpoint=False)\n",
    "\n",
    "# Signal = sine wave + noise\n",
    "signal = np.sin(2 * np.pi * 220 * t) + 0.3 * np.random.randn(*t.shape)\n",
    "signal = signal.astype(np.float32)\n",
    "\n",
    "# === 2. Prepare training sequences ===\n",
    "sequence_length = 100\n",
    "X, y = [], []\n",
    "\n",
    "for i in range(len(signal) - sequence_length):\n",
    "    X.append(signal[i:i + sequence_length])\n",
    "    y.append(signal[i + sequence_length])\n",
    "\n",
    "X = np.array(X).reshape((-1, sequence_length, 1))\n",
    "y = np.array(y)\n",
    "\n",
    "# === 3. Define and train RNN model ===\n",
    "model = Sequential([\n",
    "    SimpleRNN(64, input_shape=(sequence_length, 1), return_sequences=True),\n",
    "    SimpleRNN(64),\n",
    "    Dense(1)\n",
    "])\n",
    "\n",
    "model.compile(optimizer='adam', loss='mse')\n",
    "model.fit(X, y, epochs=10, batch_size=32)\n",
    "\n",
    "# === 4. Generate audio with the trained RNN ===\n",
    "generated = list(signal[:sequence_length])  # Seed\n",
    "for _ in range(sample_rate * 2):  # generate 2 seconds\n",
    "    input_seq = np.array(generated[-sequence_length:]).reshape((1, sequence_length, 1))\n",
    "    next_sample = model.predict(input_seq, verbose=0)[0][0]\n",
    "    generated.append(next_sample)\n",
    "\n",
    "# === 5. Save generated sound to WAV ===\n",
    "output = np.array(generated)\n",
    "output = np.clip(output, -1, 1)\n",
    "write(\"rnn_generated.wav\", sample_rate, (output * 32767).astype(np.int16))\n",
    "\n",
    "print(\"Done! File saved as 'rnn_generated.wav'\")\n"
   ]
  },
  {
   "cell_type": "code",
   "execution_count": null,
   "id": "70aeb69c",
   "metadata": {},
   "outputs": [],
   "source": []
  }
 ],
 "metadata": {
  "kernelspec": {
   "display_name": "Python 3",
   "language": "python",
   "name": "python3"
  },
  "language_info": {
   "codemirror_mode": {
    "name": "ipython",
    "version": 3
   },
   "file_extension": ".py",
   "mimetype": "text/x-python",
   "name": "python",
   "nbconvert_exporter": "python",
   "pygments_lexer": "ipython3",
   "version": "3.11.9"
  }
 },
 "nbformat": 4,
 "nbformat_minor": 5
}
